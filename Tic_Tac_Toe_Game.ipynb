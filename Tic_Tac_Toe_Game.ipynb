{
 "cells": [
  {
   "cell_type": "markdown",
   "metadata": {},
   "source": [
    "# Project : Tic Tac Toe Game\n",
    "\n",
    "Follow the steps below to create the Tic Tac Toe  game!"
   ]
  },
  {
   "cell_type": "markdown",
   "metadata": {},
   "source": [
    "**Step 1: Function to Set up 3 by 3 board representation and also clear the previous board.**"
   ]
  },
  {
   "cell_type": "code",
   "execution_count": 67,
   "metadata": {},
   "outputs": [],
   "source": [
    "from IPython.display import clear_output\n",
    "\n",
    "def display_board(board):\n",
    "    clear_output()\n",
    "    print('-------')\n",
    "    print('|'+board[7]+'|'+board[8]+'|'+board[9]+'|')\n",
    "    print('-------')\n",
    "    print('|'+board[4]+'|'+board[5]+'|'+board[6]+'|')\n",
    "    print('-------')\n",
    "    print('|'+board[1]+'|'+board[2]+'|'+board[3]+'|')\n",
    "    print('-------')"
   ]
  },
  {
   "cell_type": "markdown",
   "metadata": {},
   "source": [
    "**TEST Step 1:** Test the display_board function:"
   ]
  },
  {
   "cell_type": "code",
   "execution_count": 68,
   "metadata": {},
   "outputs": [
    {
     "name": "stdout",
     "output_type": "stream",
     "text": [
      "-------\n",
      "|X|O|X|\n",
      "-------\n",
      "|O|X|O|\n",
      "-------\n",
      "|X|O|X|\n",
      "-------\n"
     ]
    }
   ],
   "source": [
    "test_board = ['#','X','O','X','O','X','O','X','O','X']\n",
    "display_board(test_board)"
   ]
  },
  {
   "cell_type": "markdown",
   "metadata": {},
   "source": [
    "**Step 2: Function to accept the user/player input marker as 'X' or 'O'.**"
   ]
  },
  {
   "cell_type": "code",
   "execution_count": 69,
   "metadata": {},
   "outputs": [],
   "source": [
    "def player_input():\n",
    "    player_number=0\n",
    "    player1_marker=''\n",
    "    number=False\n",
    " \n",
    "    while not(player1_marker== 'X'or player1_marker== 'O'):\n",
    "        player1_marker=input(\"Please enter your marker either 'X' or 'O':\")\n",
    "        if player1_marker =='X':\n",
    "                player2_marker='O'        \n",
    "        elif player1_marker =='O':\n",
    "                player2_marker='X'     \n",
    "        else:\n",
    "            print(\"Please enter a valid marker\")\n",
    "\n",
    "    return (player1_marker,player2_marker)\n",
    "        "
   ]
  },
  {
   "cell_type": "markdown",
   "metadata": {},
   "source": [
    "**TEST Step 2:** Test the player_input function"
   ]
  },
  {
   "cell_type": "code",
   "execution_count": 70,
   "metadata": {},
   "outputs": [
    {
     "name": "stdout",
     "output_type": "stream",
     "text": [
      "Please enter your marker either 'X' or 'O':O\n"
     ]
    },
    {
     "data": {
      "text/plain": [
       "('O', 'X')"
      ]
     },
     "execution_count": 70,
     "metadata": {},
     "output_type": "execute_result"
    }
   ],
   "source": [
    "player_input()"
   ]
  },
  {
   "cell_type": "markdown",
   "metadata": {},
   "source": [
    "**Step 3: Function to accept the player marker and position and assigns it to the board.**"
   ]
  },
  {
   "cell_type": "code",
   "execution_count": 71,
   "metadata": {},
   "outputs": [],
   "source": [
    "def place_marker(board, marker, position):\n",
    "    \n",
    "    board[position]=marker"
   ]
  },
  {
   "cell_type": "markdown",
   "metadata": {},
   "source": [
    "**TEST Step 3:** Test for place_marker function and display the modified board"
   ]
  },
  {
   "cell_type": "code",
   "execution_count": 72,
   "metadata": {},
   "outputs": [
    {
     "name": "stdout",
     "output_type": "stream",
     "text": [
      "-------\n",
      "|X|$|X|\n",
      "-------\n",
      "|O|X|O|\n",
      "-------\n",
      "|X|O|X|\n",
      "-------\n"
     ]
    }
   ],
   "source": [
    "place_marker(test_board,'$',8)\n",
    "display_board(test_board)"
   ]
  },
  {
   "cell_type": "markdown",
   "metadata": {},
   "source": [
    "**Step 4: Function to check the winner by taking the board positon markers under consideration. **"
   ]
  },
  {
   "cell_type": "code",
   "execution_count": 73,
   "metadata": {},
   "outputs": [],
   "source": [
    "def win_check(board, mark):\n",
    "    #The player wins only if the mark given is fit into a position and across any of following direction same marks occur:\n",
    "    #Across horizontal top, horizontal middle, horizontal bottom, left diagonal, right diagonal,left vertical , mid vertical and right vertical\n",
    "    return ((board[7] == mark and board[8] == mark and board[9] == mark) #horizontal top\n",
    "            or (board[4] == mark and board[5] == mark and board[6] == mark) #horizontal middle\n",
    "            or (board[1] == mark and board[2] == mark and board[3] == mark)# horizontal bottom\n",
    "            or (board[3] == mark and board[5] == mark and board[7] == mark)# left diag\n",
    "            or (board[9] == mark and board[5] == mark and board[1] == mark)#right diag\n",
    "            or (board[1] == mark and board[4] == mark and board[7] == mark)#vertical left\n",
    "            or (board[2] == mark and board[5] == mark and board[8] == mark)#vertical mid\n",
    "            or (board[9] == mark and board[6] == mark and board[3] == mark))#vertical right "
   ]
  },
  {
   "cell_type": "markdown",
   "metadata": {},
   "source": [
    "**TEST Step 4:** Test to check a winner"
   ]
  },
  {
   "cell_type": "code",
   "execution_count": 74,
   "metadata": {},
   "outputs": [
    {
     "data": {
      "text/plain": [
       "True"
      ]
     },
     "execution_count": 74,
     "metadata": {},
     "output_type": "execute_result"
    }
   ],
   "source": [
    "win_check(test_board,'X')"
   ]
  },
  {
   "cell_type": "markdown",
   "metadata": {},
   "source": [
    "**Step 5: Function using  the random module to randomly decide which player gets the first turn.**"
   ]
  },
  {
   "cell_type": "code",
   "execution_count": 75,
   "metadata": {},
   "outputs": [],
   "source": [
    "import random\n",
    "\n",
    "def choose_first():\n",
    "    if random.randint(0, 1) == 0:\n",
    "        return 'Player 2'\n",
    "    else:\n",
    "        return 'Player 1'"
   ]
  },
  {
   "cell_type": "markdown",
   "metadata": {},
   "source": [
    "**Step 6: Function to check the availability of a particular position on the board**"
   ]
  },
  {
   "cell_type": "code",
   "execution_count": 76,
   "metadata": {},
   "outputs": [],
   "source": [
    "def space_check(board, position):\n",
    "    if board[position]== ' ':\n",
    "        return True\n",
    "    else:\n",
    "        return False"
   ]
  },
  {
   "cell_type": "markdown",
   "metadata": {},
   "source": [
    "**Step 7: Function to the check if the board is full or not!!**"
   ]
  },
  {
   "cell_type": "code",
   "execution_count": 77,
   "metadata": {},
   "outputs": [],
   "source": [
    "def full_board_check(board):\n",
    "    for i in range(1,10):\n",
    "        if space_check(board, i):\n",
    "            return False\n",
    "    return True"
   ]
  },
  {
   "cell_type": "markdown",
   "metadata": {},
   "source": [
    "**Step 8: Function to take player's next position (as a number 1-9) as input and then see if its free. If it is, then return the position for later use.**"
   ]
  },
  {
   "cell_type": "code",
   "execution_count": 78,
   "metadata": {},
   "outputs": [],
   "source": [
    "def player_choice(board):\n",
    "    position = 0\n",
    "    while not space_check(board, position) or position not in [1,2,3,4,5,6,7,8,9]: #wrong entered no. or not free\n",
    "        position = int(input('Please Choose your next position between 1-9:'))\n",
    "    return position"
   ]
  },
  {
   "cell_type": "markdown",
   "metadata": {},
   "source": [
    "**Step 9: Function to confirm whether player wants to replay or not!!**"
   ]
  },
  {
   "cell_type": "code",
   "execution_count": 79,
   "metadata": {},
   "outputs": [],
   "source": [
    "def replay():\n",
    "    replay_input=input(\"Do you want to play again? Yes or No:\")\n",
    "    if replay_input.lower()[0].startswith('y'):\n",
    "        return True\n",
    "    else:\n",
    "        return False"
   ]
  },
  {
   "cell_type": "markdown",
   "metadata": {
    "collapsed": true
   },
   "source": [
    "**Step 10: Using the function above to make a working Tic Tac Toe game!!**"
   ]
  },
  {
   "cell_type": "code",
   "execution_count": 80,
   "metadata": {},
   "outputs": [
    {
     "name": "stdout",
     "output_type": "stream",
     "text": [
      "-------\n",
      "|O|X|O|\n",
      "-------\n",
      "|X|X|X|\n",
      "-------\n",
      "|O|O| |\n",
      "-------\n",
      "Player 2 has won!\n",
      "Do you want to play again? Yes or No:No\n"
     ]
    }
   ],
   "source": [
    "print('Welcome to Tic Tac Toe!')\n",
    "\n",
    "while True:\n",
    "    # Set the game up here\n",
    "    Board = [' '] * 10 #clear the board\n",
    "    #Set the marker for player1 and player2\n",
    "    player1_marker, player2_marker = player_input()\n",
    "    #Choose which player should move first\n",
    "    turn= choose_first()\n",
    "    print(turn+ ' will move first.')\n",
    "    #check if the players are ready:\n",
    "    ready= input(\"Are you ready to play the game? Yes or No:\")\n",
    "    if ready.lower()[0].startswith('y'):\n",
    "        print(\"The games is starting\")\n",
    "        game_on= True\n",
    "    else:\n",
    "        game_on= False\n",
    "\n",
    "    while game_on:\n",
    "        #Player 1 Turn\n",
    "        #display the board, choose marker and position\n",
    "        display_board(Board)\n",
    "        position = player_choice(Board)\n",
    "        place_marker(Board, player1_marker, position)\n",
    "        #check if the player wins after placing the marker and if player doesn't wins then check if there is place on\n",
    "        #the board to make next move otherwise game is draw\n",
    "        if win_check(Board, player1_marker):\n",
    "            display_board(Board)\n",
    "            print('Congratulations!You are the winner')\n",
    "            game_on = False\n",
    "        else:\n",
    "            if full_board_check(Board):\n",
    "                display_board(Board)\n",
    "                print('It is a draw')\n",
    "                break\n",
    "            else:\n",
    "                turn = 'Player 2' #can make move\n",
    "        \n",
    "        \n",
    "        \n",
    "        # Player2's turn.\n",
    "        display_board(Board)\n",
    "        position = player_choice(Board)\n",
    "        place_marker(Board, player2_marker, position)\n",
    "\n",
    "        if win_check(Board, player2_marker):\n",
    "            display_board(Board)\n",
    "            print('Player 2 has won!')\n",
    "            game_on = False\n",
    "        else:\n",
    "            if full_board_check(Board):\n",
    "                display_board(Board)\n",
    "                print('It is a draw!')\n",
    "                break\n",
    "            else:\n",
    "                turn = 'Player 1'\n",
    "\n",
    "\n",
    "    if not replay():\n",
    "        break"
   ]
  },
  {
   "cell_type": "markdown",
   "metadata": {
    "collapsed": true
   },
   "source": [
    "## Good Job!"
   ]
  }
 ],
 "metadata": {
  "kernelspec": {
   "display_name": "Python 3",
   "language": "python",
   "name": "python3"
  }
 },
 "nbformat": 4,
 "nbformat_minor": 1
}
